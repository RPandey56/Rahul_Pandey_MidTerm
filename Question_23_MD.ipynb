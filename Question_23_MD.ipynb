{
 "cells": [
  {
   "cell_type": "markdown",
   "id": "1118ab5c",
   "metadata": {},
   "source": [
    "## Question 23\n",
    "Develop a recursive function tough() that takes two nonnegative integer arguments and outputs a pattern as shown below.\n",
    "Hint: The first argument represents the indentation of the pattern,\n",
    "    where the second argument -- always a pattern of 2 indicates the number *s in the longest line of *s in the pattern"
   ]
  },
  {
   "cell_type": "code",
   "execution_count": 1,
   "id": "0305f19a",
   "metadata": {},
   "outputs": [],
   "source": [
    "def f(Idnt, Num):\n",
    "    if(Num > 0):\n",
    "        f(Idnt, Num//2);\n",
    "        print(\" \"*Idnt + \"*\"*Num);\n",
    "        f(Idnt + Num//2, Num//2);"
   ]
  },
  {
   "cell_type": "code",
   "execution_count": 6,
   "id": "011c81f0",
   "metadata": {},
   "outputs": [],
   "source": [
    "f(0,0)"
   ]
  },
  {
   "cell_type": "code",
   "execution_count": 3,
   "id": "f4195f98",
   "metadata": {},
   "outputs": [
    {
     "name": "stdout",
     "output_type": "stream",
     "text": [
      "*\n"
     ]
    }
   ],
   "source": [
    "f(0,1)"
   ]
  },
  {
   "cell_type": "code",
   "execution_count": 4,
   "id": "08a62879",
   "metadata": {},
   "outputs": [
    {
     "name": "stdout",
     "output_type": "stream",
     "text": [
      "*\n",
      "**\n",
      " *\n"
     ]
    }
   ],
   "source": [
    "f(0,2)"
   ]
  },
  {
   "cell_type": "code",
   "execution_count": 5,
   "id": "0746262b",
   "metadata": {},
   "outputs": [
    {
     "name": "stdout",
     "output_type": "stream",
     "text": [
      "*\n",
      "**\n",
      " *\n",
      "****\n",
      "  *\n",
      "  **\n",
      "   *\n"
     ]
    }
   ],
   "source": [
    "f(0,4)"
   ]
  },
  {
   "cell_type": "code",
   "execution_count": null,
   "id": "07d50d7b",
   "metadata": {},
   "outputs": [],
   "source": []
  }
 ],
 "metadata": {
  "kernelspec": {
   "display_name": "Python 3 (ipykernel)",
   "language": "python",
   "name": "python3"
  },
  "language_info": {
   "codemirror_mode": {
    "name": "ipython",
    "version": 3
   },
   "file_extension": ".py",
   "mimetype": "text/x-python",
   "name": "python",
   "nbconvert_exporter": "python",
   "pygments_lexer": "ipython3",
   "version": "3.11.4"
  }
 },
 "nbformat": 4,
 "nbformat_minor": 5
}
