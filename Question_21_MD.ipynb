{
 "cells": [
  {
   "cell_type": "markdown",
   "id": "ef5cef29",
   "metadata": {},
   "source": [
    "# Question 21\n",
    "\n",
    "__int()__: Constructor that takes as input a pair of Point objects that represent the ends points of the line segment\n",
    "\n",
    "Length():: returns the length if the segment \n",
    "\n",
    "Slope() returns the slope of the segment of none if the slope is unbounded \n",
    "\n",
    " \n",
    "\n",
    "#### >>> p1 = Point(3,4)\n",
    "\n",
    "#### >>> p2 = Point()\n",
    "\n",
    "#### >>> s = Segment(p1,p2)\n",
    "\n",
    "#### >>> s.length()\n",
    "\n",
    "5.0\n",
    "\n",
    "#### >>> s.slope()\n",
    "\n",
    "0.75\n"
   ]
  },
  {
   "cell_type": "code",
   "execution_count": 4,
   "id": "ff1d71ad",
   "metadata": {},
   "outputs": [
    {
     "name": "stdout",
     "output_type": "stream",
     "text": [
      "5.0\n",
      "1.3333333333333333\n"
     ]
    }
   ],
   "source": [
    "class Point:\n",
    "    def __init__(self, a=0, b=0):\n",
    "        self.a = a\n",
    "        self.b = b\n",
    "\n",
    "class Segment:\n",
    "    def __init__(self, point_1, point_2): \n",
    "        self.point_1 = point_1\n",
    "        self.point_2 = point_2\n",
    "\n",
    "    def length(self):\n",
    "        return ((self.point_1.a - self.point_2.a)**2 + (self.point_1.b - self.point_2.b)**2)**0.5\n",
    "\n",
    "    def slope(self):\n",
    "        if self.point_1.a == self.point_2.a:\n",
    "            return None\n",
    "        return (self.point_1.b - self.point_2.b) / (self.point_1.a - self.point_2.a)\n",
    "\n",
    "point_1 = Point(3,4)\n",
    "point_2 = Point()\n",
    "S = Segment(point_1,point_2)\n",
    "print(S.length()) \n",
    "print(S.slope()) "
   ]
  },
  {
   "cell_type": "code",
   "execution_count": null,
   "id": "96b93029",
   "metadata": {},
   "outputs": [],
   "source": []
  }
 ],
 "metadata": {
  "kernelspec": {
   "display_name": "Python 3 (ipykernel)",
   "language": "python",
   "name": "python3"
  },
  "language_info": {
   "codemirror_mode": {
    "name": "ipython",
    "version": 3
   },
   "file_extension": ".py",
   "mimetype": "text/x-python",
   "name": "python",
   "nbconvert_exporter": "python",
   "pygments_lexer": "ipython3",
   "version": "3.11.4"
  }
 },
 "nbformat": 4,
 "nbformat_minor": 5
}
